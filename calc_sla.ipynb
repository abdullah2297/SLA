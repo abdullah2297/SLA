{
 "cells": [
  {
   "cell_type": "markdown",
   "id": "59ea5883",
   "metadata": {},
   "source": [
    "# Calculate SLA "
   ]
  },
  {
   "cell_type": "code",
   "execution_count": 1,
   "id": "f5c2fe21",
   "metadata": {},
   "outputs": [],
   "source": [
    "import numpy as np\n",
    "import pandas as pd\n",
    "\n",
    "import holidays\n",
    "import business_calendar as bc\n",
    "import sla_checker as sch\n",
    "import re\n",
    "import datetime as dt"
   ]
  },
  {
   "cell_type": "code",
   "execution_count": 2,
   "id": "b0aef382",
   "metadata": {
    "scrolled": true
   },
   "outputs": [
    {
     "data": {
      "text/html": [
       "<div>\n",
       "<style scoped>\n",
       "    .dataframe tbody tr th:only-of-type {\n",
       "        vertical-align: middle;\n",
       "    }\n",
       "\n",
       "    .dataframe tbody tr th {\n",
       "        vertical-align: top;\n",
       "    }\n",
       "\n",
       "    .dataframe thead th {\n",
       "        text-align: right;\n",
       "    }\n",
       "</style>\n",
       "<table border=\"1\" class=\"dataframe\">\n",
       "  <thead>\n",
       "    <tr style=\"text-align: right;\">\n",
       "      <th></th>\n",
       "      <th>SRIDentification</th>\n",
       "      <th>TT_Created_date</th>\n",
       "      <th>TiketCloseTime</th>\n",
       "      <th>SLA</th>\n",
       "    </tr>\n",
       "  </thead>\n",
       "  <tbody>\n",
       "    <tr>\n",
       "      <th>0</th>\n",
       "      <td>2101010000623771</td>\n",
       "      <td>2021-01-01 16:47:38.000</td>\n",
       "      <td>2021-01-01 19:44:05.000</td>\n",
       "      <td>2D</td>\n",
       "    </tr>\n",
       "    <tr>\n",
       "      <th>1</th>\n",
       "      <td>2101010000154762</td>\n",
       "      <td>2021-01-01 07:52:09.000</td>\n",
       "      <td>2021-01-01 18:58:25.000</td>\n",
       "      <td>48 H</td>\n",
       "    </tr>\n",
       "    <tr>\n",
       "      <th>2</th>\n",
       "      <td>2101010000284926</td>\n",
       "      <td>2021-01-01 12:34:30.000</td>\n",
       "      <td>2021-01-01 13:38:04.000</td>\n",
       "      <td>2 H</td>\n",
       "    </tr>\n",
       "    <tr>\n",
       "      <th>3</th>\n",
       "      <td>2101010000759068</td>\n",
       "      <td>2021-01-01 18:24:22.000</td>\n",
       "      <td>2021-01-01 18:56:40.000</td>\n",
       "      <td>1D</td>\n",
       "    </tr>\n",
       "    <tr>\n",
       "      <th>4</th>\n",
       "      <td>2101010000163250</td>\n",
       "      <td>2021-01-01 08:47:43.000</td>\n",
       "      <td>2021-01-03 21:07:43.000</td>\n",
       "      <td>48WH</td>\n",
       "    </tr>\n",
       "  </tbody>\n",
       "</table>\n",
       "</div>"
      ],
      "text/plain": [
       "   SRIDentification          TT_Created_date           TiketCloseTime   SLA\n",
       "0  2101010000623771  2021-01-01 16:47:38.000  2021-01-01 19:44:05.000    2D\n",
       "1  2101010000154762  2021-01-01 07:52:09.000  2021-01-01 18:58:25.000  48 H\n",
       "2  2101010000284926  2021-01-01 12:34:30.000  2021-01-01 13:38:04.000   2 H\n",
       "3  2101010000759068  2021-01-01 18:24:22.000  2021-01-01 18:56:40.000    1D\n",
       "4  2101010000163250  2021-01-01 08:47:43.000  2021-01-03 21:07:43.000  48WH"
      ]
     },
     "execution_count": 2,
     "metadata": {},
     "output_type": "execute_result"
    }
   ],
   "source": [
    "df = pd.read_excel('sample & SLA.xlsx')\n",
    "df.head()"
   ]
  },
  {
   "cell_type": "markdown",
   "id": "58c053e1",
   "metadata": {},
   "source": [
    "## Re-Stracure data values and Wrangling"
   ]
  },
  {
   "cell_type": "code",
   "execution_count": 3,
   "id": "f66d66e5",
   "metadata": {},
   "outputs": [],
   "source": [
    "df.SLA.replace({'On Spot':'1H On Spot', 'Not Escalated': '24H Not Escalated'}, inplace = True)"
   ]
  },
  {
   "cell_type": "code",
   "execution_count": 4,
   "id": "456d68e1",
   "metadata": {
    "scrolled": true
   },
   "outputs": [
    {
     "data": {
      "text/plain": [
       "48 H                                                          5130\n",
       "5 H                                                           1159\n",
       "SLA 2 H from 8AM till 9 PM except Friday from 2PM till 9PM     806\n",
       "2D                                                             653\n",
       "1H                                                             629\n",
       "48WH                                                           333\n",
       "72H                                                            324\n",
       "1D                                                             253\n",
       "2 H                                                            171\n",
       "24 H                                                           165\n",
       "1H On Spot                                                     117\n",
       "1 H ( From 9 AM till 10 PM )                                   101\n",
       "2H                                                              48\n",
       "2WH ?working hours from 8am to 10 pm                            37\n",
       "4WD                                                             33\n",
       "48H                                                             11\n",
       "1H 8AM till 9 PM exceprt Friday 2PM : 9PM                        8\n",
       "2 WD                                                             7\n",
       "24H Not Escalated                                                6\n",
       "1WD                                                              4\n",
       "2WD                                                              4\n",
       "2 H ( From 8 AM till 9 PM )                                      1\n",
       "Name: SLA, dtype: int64"
      ]
     },
     "execution_count": 4,
     "metadata": {},
     "output_type": "execute_result"
    }
   ],
   "source": [
    "df.SLA.value_counts()"
   ]
  },
  {
   "cell_type": "code",
   "execution_count": 5,
   "id": "761f577e",
   "metadata": {},
   "outputs": [],
   "source": [
    "def extract_numbers(txt):\n",
    "    return re.findall(r'\\d+', txt)[0]\n",
    "\n",
    "def extract_flags(txt):\n",
    "    return txt[:4]\n",
    "\n",
    "def remove_numbers(txt):\n",
    "    return ''.join(i for i in txt if not i.isdigit())\n",
    "\n",
    "def remove_spaces(txt):\n",
    "    return \"\".join(txt.split())\n",
    "\n",
    "def extraxt_opening(txt):\n",
    "    \n",
    "    if len(re.findall(r'\\d+', txt)) > 1: \n",
    "        return re.findall(r'\\d+', txt)[1]\n",
    "    else:\n",
    "        return None\n",
    "\n",
    "def extraxt_ending(txt):\n",
    "    \n",
    "    if len(re.findall(r'\\d+', txt)) > 2: \n",
    "        return re.findall(r'\\d+', txt)[2]\n",
    "    else:\n",
    "        return None"
   ]
  },
  {
   "cell_type": "code",
   "execution_count": 6,
   "id": "9fa1b705",
   "metadata": {},
   "outputs": [],
   "source": [
    "df.SLA.replace('SLA 2 H from 8AM till 9 PM except Friday from 2PM till 9PM','2 H from 8AM till 9 PM except Friday from 2PM till 9PM', inplace = True)"
   ]
  },
  {
   "cell_type": "code",
   "execution_count": 7,
   "id": "5ba570bc",
   "metadata": {},
   "outputs": [],
   "source": [
    "df['sla_time'] = [extract_numbers(x) for x in df.SLA.values]"
   ]
  },
  {
   "cell_type": "code",
   "execution_count": 8,
   "id": "f39b5829",
   "metadata": {},
   "outputs": [],
   "source": [
    "df['sla_flag'] = [extract_flags(x) for x in df.SLA.values]"
   ]
  },
  {
   "cell_type": "code",
   "execution_count": 9,
   "id": "2a014f57",
   "metadata": {},
   "outputs": [],
   "source": [
    "df['sla_flag'] = [remove_numbers(x) for x in df.sla_flag.values]"
   ]
  },
  {
   "cell_type": "code",
   "execution_count": 10,
   "id": "38a96ba2",
   "metadata": {},
   "outputs": [],
   "source": [
    "df['sla_flag'] = [remove_spaces(x) for x in df.sla_flag.values]"
   ]
  },
  {
   "cell_type": "code",
   "execution_count": 11,
   "id": "2f046d3c",
   "metadata": {},
   "outputs": [],
   "source": [
    "df['sla_flag'].replace('HO','H', inplace=True)"
   ]
  },
  {
   "cell_type": "code",
   "execution_count": 12,
   "id": "b627cab7",
   "metadata": {},
   "outputs": [],
   "source": [
    "df['opening_hours'] = [extraxt_opening(x) for x in df.SLA.values]\n",
    "df['ending_hours'] = [extraxt_ending(x) for x in df.SLA.values]\n",
    "\n",
    "\n",
    "df['opening_hours'] = df['opening_hours'].replace({'8':'08:00', '9':'09:00'})\n",
    "df['opening_hours'] = pd.to_datetime(df['opening_hours'],format= '%H:%M').dt.time\n",
    "\n",
    "df['ending_hours'] = df['ending_hours'].replace({'9':'21:00', '10':'22:00'})\n",
    "df['ending_hours'] = pd.to_datetime(df['ending_hours'],format= '%H:%M').dt.time"
   ]
  },
  {
   "cell_type": "code",
   "execution_count": 13,
   "id": "9fa4398a",
   "metadata": {},
   "outputs": [],
   "source": [
    "df.sla_time = df.sla_time.astype('int')"
   ]
  },
  {
   "cell_type": "code",
   "execution_count": 14,
   "id": "46a0b1ce",
   "metadata": {
    "scrolled": true
   },
   "outputs": [],
   "source": [
    "for i, v in enumerate(df.sla_flag.values):\n",
    "    if v == 'D' or v == 'WD':\n",
    "        df.iloc[i, df.columns.get_loc('sla_time')] = df.iloc[i, df.columns.get_loc('sla_time')] * 24\n",
    "        \n",
    "df['sla_flag'] = df['sla_flag'].replace({'D':'H', 'WD':'WH'})"
   ]
  },
  {
   "cell_type": "code",
   "execution_count": 15,
   "id": "553edc54",
   "metadata": {},
   "outputs": [
    {
     "data": {
      "text/html": [
       "<div>\n",
       "<style scoped>\n",
       "    .dataframe tbody tr th:only-of-type {\n",
       "        vertical-align: middle;\n",
       "    }\n",
       "\n",
       "    .dataframe tbody tr th {\n",
       "        vertical-align: top;\n",
       "    }\n",
       "\n",
       "    .dataframe thead th {\n",
       "        text-align: right;\n",
       "    }\n",
       "</style>\n",
       "<table border=\"1\" class=\"dataframe\">\n",
       "  <thead>\n",
       "    <tr style=\"text-align: right;\">\n",
       "      <th></th>\n",
       "      <th>SRIDentification</th>\n",
       "      <th>TT_Created_date</th>\n",
       "      <th>TiketCloseTime</th>\n",
       "      <th>SLA</th>\n",
       "      <th>sla_time</th>\n",
       "      <th>sla_flag</th>\n",
       "      <th>opening_hours</th>\n",
       "      <th>ending_hours</th>\n",
       "    </tr>\n",
       "  </thead>\n",
       "  <tbody>\n",
       "    <tr>\n",
       "      <th>0</th>\n",
       "      <td>2101010000623771</td>\n",
       "      <td>2021-01-01 16:47:38.000</td>\n",
       "      <td>2021-01-01 19:44:05.000</td>\n",
       "      <td>2D</td>\n",
       "      <td>48</td>\n",
       "      <td>H</td>\n",
       "      <td>NaT</td>\n",
       "      <td>NaT</td>\n",
       "    </tr>\n",
       "    <tr>\n",
       "      <th>1</th>\n",
       "      <td>2101010000154762</td>\n",
       "      <td>2021-01-01 07:52:09.000</td>\n",
       "      <td>2021-01-01 18:58:25.000</td>\n",
       "      <td>48 H</td>\n",
       "      <td>48</td>\n",
       "      <td>H</td>\n",
       "      <td>NaT</td>\n",
       "      <td>NaT</td>\n",
       "    </tr>\n",
       "    <tr>\n",
       "      <th>2</th>\n",
       "      <td>2101010000284926</td>\n",
       "      <td>2021-01-01 12:34:30.000</td>\n",
       "      <td>2021-01-01 13:38:04.000</td>\n",
       "      <td>2 H</td>\n",
       "      <td>2</td>\n",
       "      <td>H</td>\n",
       "      <td>NaT</td>\n",
       "      <td>NaT</td>\n",
       "    </tr>\n",
       "    <tr>\n",
       "      <th>3</th>\n",
       "      <td>2101010000759068</td>\n",
       "      <td>2021-01-01 18:24:22.000</td>\n",
       "      <td>2021-01-01 18:56:40.000</td>\n",
       "      <td>1D</td>\n",
       "      <td>24</td>\n",
       "      <td>H</td>\n",
       "      <td>NaT</td>\n",
       "      <td>NaT</td>\n",
       "    </tr>\n",
       "    <tr>\n",
       "      <th>4</th>\n",
       "      <td>2101010000163250</td>\n",
       "      <td>2021-01-01 08:47:43.000</td>\n",
       "      <td>2021-01-03 21:07:43.000</td>\n",
       "      <td>48WH</td>\n",
       "      <td>48</td>\n",
       "      <td>WH</td>\n",
       "      <td>NaT</td>\n",
       "      <td>NaT</td>\n",
       "    </tr>\n",
       "  </tbody>\n",
       "</table>\n",
       "</div>"
      ],
      "text/plain": [
       "   SRIDentification          TT_Created_date           TiketCloseTime   SLA  \\\n",
       "0  2101010000623771  2021-01-01 16:47:38.000  2021-01-01 19:44:05.000    2D   \n",
       "1  2101010000154762  2021-01-01 07:52:09.000  2021-01-01 18:58:25.000  48 H   \n",
       "2  2101010000284926  2021-01-01 12:34:30.000  2021-01-01 13:38:04.000   2 H   \n",
       "3  2101010000759068  2021-01-01 18:24:22.000  2021-01-01 18:56:40.000    1D   \n",
       "4  2101010000163250  2021-01-01 08:47:43.000  2021-01-03 21:07:43.000  48WH   \n",
       "\n",
       "   sla_time sla_flag opening_hours ending_hours  \n",
       "0        48        H           NaT          NaT  \n",
       "1        48        H           NaT          NaT  \n",
       "2         2        H           NaT          NaT  \n",
       "3        24        H           NaT          NaT  \n",
       "4        48       WH           NaT          NaT  "
      ]
     },
     "execution_count": 15,
     "metadata": {},
     "output_type": "execute_result"
    }
   ],
   "source": [
    "df.head()"
   ]
  },
  {
   "cell_type": "markdown",
   "id": "a3563a0e",
   "metadata": {},
   "source": [
    "## SLA Checker"
   ]
  },
  {
   "cell_type": "code",
   "execution_count": null,
   "id": "3e030831",
   "metadata": {},
   "outputs": [],
   "source": [
    "from sla_calculator import SLA_Calculator\n",
    "\n",
    "sla_calc = SLA_Calculator()\n",
    "\n",
    "for i in range(len(df))\n",
    "    sla_time = sla_calc.calculate(start_time=\"2019-12-10T01:02:03Z\",\n",
    "                                  open_hour=9,\n",
    "                                  close_hour=17,\n",
    "                                  country_name=\"US\",\n",
    "                                  sla_in_hours=4)\n",
    "print(sla_time.to_iso8601_string())"
   ]
  },
  {
   "cell_type": "code",
   "execution_count": 16,
   "id": "08b18c45",
   "metadata": {},
   "outputs": [
    {
     "data": {
      "text/plain": [
       "10000"
      ]
     },
     "execution_count": 16,
     "metadata": {},
     "output_type": "execute_result"
    }
   ],
   "source": [
    "len(df)"
   ]
  }
 ],
 "metadata": {
  "kernelspec": {
   "display_name": "Python 3",
   "language": "python",
   "name": "python3"
  },
  "language_info": {
   "codemirror_mode": {
    "name": "ipython",
    "version": 3
   },
   "file_extension": ".py",
   "mimetype": "text/x-python",
   "name": "python",
   "nbconvert_exporter": "python",
   "pygments_lexer": "ipython3",
   "version": "3.8.8"
  }
 },
 "nbformat": 4,
 "nbformat_minor": 5
}
